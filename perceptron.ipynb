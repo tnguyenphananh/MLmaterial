{
 "cells": [
  {
   "cell_type": "markdown",
   "metadata": {},
   "source": [
    "# Introduction"
   ]
  },
  {
   "cell_type": "markdown",
   "metadata": {},
   "source": [
    "Perceptron algorithm is a binary classification and only works when the data is linearly separable.  \n",
    "The output is obtained by thresholding a linear function of the input: the parameters of the algorithm are the coefficients of this linear function.  \n",
    "This will produce a hyperplane that separate classes."
   ]
  },
  {
   "cell_type": "markdown",
   "metadata": {},
   "source": [
    "Hyperplane define as a set of x that satisfy the function:\n",
    "\n",
    "<center>\n",
    "\n",
    "$H = {x: w^t x+b=0}$\n",
    "\n",
    "</center>\n",
    "\n",
    "Where $w$ is the weight and $b$ is bias"
   ]
  },
  {
   "cell_type": "markdown",
   "metadata": {},
   "source": [
    "How to predict the classes:  \n",
    "We look at the sign of the function  \n",
    "<center>\n",
    "\n",
    "$w^tx+b$\n",
    "\n",
    "</center>\n",
    "\n",
    "If the values is greater than $0$ then it belong to one class and if the value is less than $0$ it belong to the other one."
   ]
  },
  {
   "cell_type": "markdown",
   "metadata": {},
   "source": [
    "Learning both $w$ and $b$ is hard so we shifted everything up by adding one additional constand dimension, therefore:\n",
    "<center>\n",
    "\n",
    "$x$ becomes $\\begin{bmatrix} \\mathbf{x} \\\\ 1  \\end{bmatrix}$  \n",
    "\n",
    "$w$ become $\\begin{bmatrix} \\mathbf{w} \\\\ b  \\end{bmatrix} $\n",
    "\n",
    "</center>  \n",
    "\n",
    "And we know that:\n",
    "\n",
    "<center>\n",
    "\n",
    "$\\begin{bmatrix} \\mathbf{x} \\\\ 1  \\end{bmatrix}^\\top \\begin{bmatrix} \\mathbf{w} \\\\ b  \\end{bmatrix} = \\mathbf{w}^\\top \\mathbf{x} + b$\n",
    "\n",
    "</center>\n",
    "\n",
    "This allow us to simplify the function for the hyperplane as:\n",
    "\n",
    "<center>\n",
    "\n",
    "$H = x: w^t x=0$\n",
    "\n",
    "</center>\n",
    "\n",
    "And the prediction output will be:\n",
    "\n",
    "<center>\n",
    "\n",
    "$w^tb$\n",
    "\n",
    "</center>"
   ]
  },
  {
   "cell_type": "markdown",
   "metadata": {},
   "source": [
    "How the algorithm work:  \n",
    "\n",
    "1. Initialize $\\vec{w}=0$\n",
    "2. For every iteration set the number of error to 0\n",
    "3. Going through all the point and make sure that $y  w^tx \\geq 0$\n",
    "4. If not we will update the weight $\\vec{w}$ as $\\vec{w}+y\\vec{x}$ and record the number of our error $err = err+1$\n",
    "5. If the amount of error is 0 at the end then the algorithm converge and it succeed in classify every point in our data"
   ]
  },
  {
   "cell_type": "markdown",
   "metadata": {},
   "source": [
    "# Perceptron algorithm draft"
   ]
  },
  {
   "cell_type": "code",
   "execution_count": null,
   "metadata": {},
   "outputs": [],
   "source": [
    "%pip install matplotlib"
   ]
  },
  {
   "cell_type": "code",
   "execution_count": 169,
   "metadata": {},
   "outputs": [],
   "source": [
    "import numpy as np\n",
    "\n",
    "\n",
    "def predict(X):\n",
    "    return np.where(np.dot(np.transpose(weight),X) >= 0.0, 1, -1)\n",
    "\n",
    "\n",
    "def perceptron(feature, label):\n",
    "    weight = np.zeros(feature.shape[1])\n",
    "    print(weight)\n",
    "    errors = []\n",
    "    while True:\n",
    "        err = 0\n",
    "        for x, y in zip(feature,label):\n",
    "            ###The lecture from Cornell and the book we talk about approach and updat the weight different this code is follow what the prof said in the lecture video at cornell\n",
    "            if y*(np.dot(np.transpose(weight),x)) <= 0:\n",
    "                weight = weight + y * x\n",
    "                #print(weight)\n",
    "                err += 1\n",
    "            #print(weight)\n",
    "        print(err)\n",
    "        errors.append(err)      \n",
    "        if errors[-1] == 0:\n",
    "            break\n",
    "    print('Number of errors each iteration:' , errors)\n",
    "    return weight"
   ]
  },
  {
   "cell_type": "markdown",
   "metadata": {},
   "source": [
    "Loading a iris flower data set, this is just an example"
   ]
  },
  {
   "cell_type": "code",
   "execution_count": 1,
   "metadata": {},
   "outputs": [
    {
     "name": "stdout",
     "output_type": "stream",
     "text": [
      "From URL: https://archive.ics.uci.edu/ml/machine-learning-databases/iris/iris.data\n"
     ]
    },
    {
     "data": {
      "text/html": [
       "<div>\n",
       "<style scoped>\n",
       "    .dataframe tbody tr th:only-of-type {\n",
       "        vertical-align: middle;\n",
       "    }\n",
       "\n",
       "    .dataframe tbody tr th {\n",
       "        vertical-align: top;\n",
       "    }\n",
       "\n",
       "    .dataframe thead th {\n",
       "        text-align: right;\n",
       "    }\n",
       "</style>\n",
       "<table border=\"1\" class=\"dataframe\">\n",
       "  <thead>\n",
       "    <tr style=\"text-align: right;\">\n",
       "      <th></th>\n",
       "      <th>0</th>\n",
       "      <th>1</th>\n",
       "      <th>2</th>\n",
       "      <th>3</th>\n",
       "      <th>4</th>\n",
       "    </tr>\n",
       "  </thead>\n",
       "  <tbody>\n",
       "    <tr>\n",
       "      <th>145</th>\n",
       "      <td>6.7</td>\n",
       "      <td>3.0</td>\n",
       "      <td>5.2</td>\n",
       "      <td>2.3</td>\n",
       "      <td>Iris-virginica</td>\n",
       "    </tr>\n",
       "    <tr>\n",
       "      <th>146</th>\n",
       "      <td>6.3</td>\n",
       "      <td>2.5</td>\n",
       "      <td>5.0</td>\n",
       "      <td>1.9</td>\n",
       "      <td>Iris-virginica</td>\n",
       "    </tr>\n",
       "    <tr>\n",
       "      <th>147</th>\n",
       "      <td>6.5</td>\n",
       "      <td>3.0</td>\n",
       "      <td>5.2</td>\n",
       "      <td>2.0</td>\n",
       "      <td>Iris-virginica</td>\n",
       "    </tr>\n",
       "    <tr>\n",
       "      <th>148</th>\n",
       "      <td>6.2</td>\n",
       "      <td>3.4</td>\n",
       "      <td>5.4</td>\n",
       "      <td>2.3</td>\n",
       "      <td>Iris-virginica</td>\n",
       "    </tr>\n",
       "    <tr>\n",
       "      <th>149</th>\n",
       "      <td>5.9</td>\n",
       "      <td>3.0</td>\n",
       "      <td>5.1</td>\n",
       "      <td>1.8</td>\n",
       "      <td>Iris-virginica</td>\n",
       "    </tr>\n",
       "  </tbody>\n",
       "</table>\n",
       "</div>"
      ],
      "text/plain": [
       "       0    1    2    3               4\n",
       "145  6.7  3.0  5.2  2.3  Iris-virginica\n",
       "146  6.3  2.5  5.0  1.9  Iris-virginica\n",
       "147  6.5  3.0  5.2  2.0  Iris-virginica\n",
       "148  6.2  3.4  5.4  2.3  Iris-virginica\n",
       "149  5.9  3.0  5.1  1.8  Iris-virginica"
      ]
     },
     "execution_count": 1,
     "metadata": {},
     "output_type": "execute_result"
    }
   ],
   "source": [
    "import os\n",
    "import pandas as pd\n",
    "s = 'https://archive.ics.uci.edu/ml/machine-learning-databases/iris/iris.data'\n",
    "print('From URL:', s)\n",
    "df = pd.read_csv(s,\n",
    "header=None,\n",
    "encoding='utf-8')\n",
    "df.tail()"
   ]
  },
  {
   "cell_type": "code",
   "execution_count": 148,
   "metadata": {},
   "outputs": [],
   "source": [
    "from matplotlib import pyplot as plt\n",
    "# select setosa and versicolor\n",
    "y = df.iloc[0:100, 4].values\n",
    "y = np.where(y == 'Iris-setosa', -1, 1)\n",
    "# extract sepal length and petal length\n",
    "X = df.iloc[0:100, [0, 2]].values"
   ]
  },
  {
   "cell_type": "code",
   "execution_count": 171,
   "metadata": {},
   "outputs": [
    {
     "data": {
      "image/png": "[encoded data removed]",
      "text/plain": [
       "<Figure size 640x480 with 1 Axes>"
      ]
     },
     "metadata": {},
     "output_type": "display_data"
    }
   ],
   "source": [
    "plt.scatter(X[:50, 0], X[:50, 1], color='red', marker='o', label='Setosa')\n",
    "plt.scatter(X[50:100, 0], X[50:100, 1], color='blue', marker='s', label='Versicolor')\n",
    "plt.xlabel('Sepal length [cm]')\n",
    "plt.ylabel('Petal length [cm]')\n",
    "plt.legend(loc='upper left')\n",
    "plt.show()"
   ]
  },
  {
   "cell_type": "markdown",
   "metadata": {},
   "source": [
    "Test the algorithm"
   ]
  },
  {
   "cell_type": "code",
   "execution_count": 170,
   "metadata": {},
   "outputs": [
    {
     "name": "stdout",
     "output_type": "stream",
     "text": [
      "[0. 0.]\n",
      "2\n",
      "2\n",
      "3\n",
      "2\n",
      "1\n",
      "0\n",
      "Number of errors each iteration: [2, 2, 3, 2, 1, 0]\n"
     ]
    },
    {
     "data": {
      "text/plain": [
       "array([-4.3,  8.7])"
      ]
     },
     "execution_count": 170,
     "metadata": {},
     "output_type": "execute_result"
    }
   ],
   "source": [
    "weight = perceptron(X,y)\n",
    "weight"
   ]
  },
  {
   "cell_type": "code",
   "execution_count": 172,
   "metadata": {},
   "outputs": [],
   "source": [
    "def plot_decision_boundary(features, labels, weights):\n",
    "    # Extract features in this case the sepal length and petal length\n",
    "    x1 = features[:, 0]\n",
    "    x2 = features[:, 1]\n",
    "\n",
    "    # Plot the data points\n",
    "    plt.scatter(x1[labels == -1], x2[labels == -1], marker='o', label='Setosa')\n",
    "    plt.scatter(x1[labels == 1], x2[labels == 1], marker='x', label='Veriscolor')\n",
    "\n",
    "    # Plot the decision boundary (hyperplane)\n",
    "    x1_range = np.linspace(min(x1), max(x1), 100)\n",
    "    x2_decision_boundary = - (weights[0] / weights[1]) * x1_range\n",
    "    plt.plot(x1_range, x2_decision_boundary, color='red', label='Decision Boundary')\n",
    "\n",
    "    plt.xlabel('Sepal length')\n",
    "    plt.ylabel('Petal length')\n",
    "    plt.legend()\n",
    "    plt.show()"
   ]
  },
  {
   "cell_type": "code",
   "execution_count": 173,
   "metadata": {},
   "outputs": [
    {
     "data": {
      "image/png": "[encoded data removed]",
      "text/plain": [
       "<Figure size 640x480 with 1 Axes>"
      ]
     },
     "metadata": {},
     "output_type": "display_data"
    }
   ],
   "source": [
    "plot_decision_boundary(X,y,weight)"
   ]
  },
  {
   "cell_type": "markdown",
   "metadata": {},
   "source": [
    "For the homework and the proof I am still planning how to get the student to know basic Python before going to implementation this algorithm"
   ]
  },
  {
   "cell_type": "code",
   "execution_count": null,
   "metadata": {},
   "outputs": [],
   "source": []
  }
 ],
 "metadata": {
  "kernelspec": {
   "display_name": "Python 3",
   "language": "python",
   "name": "python3"
  },
  "language_info": {
   "codemirror_mode": {
    "name": "ipython",
    "version": 3
   },
   "file_extension": ".py",
   "mimetype": "text/x-python",
   "name": "python",
   "nbconvert_exporter": "python",
   "pygments_lexer": "ipython3",
   "version": "3.11.5"
  }
 },
 "nbformat": 4,
 "nbformat_minor": 2
}
